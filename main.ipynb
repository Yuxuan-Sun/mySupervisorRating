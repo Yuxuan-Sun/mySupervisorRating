{
 "cells": [
  {
   "cell_type": "code",
   "execution_count": 1,
   "metadata": {},
   "outputs": [],
   "source": [
    "from urllib.request import urlopen,Request\n",
    "import ssl\n",
    "from bs4 import BeautifulSoup as BS"
   ]
  },
  {
   "cell_type": "code",
   "execution_count": 2,
   "metadata": {},
   "outputs": [],
   "source": [
    "context = ssl._create_unverified_context()\n",
    "hdr = {'User-Agent': 'Mozilla/5.0 (X11; Linux x86_64) AppleWebKit/537.11 (KHTML, like Gecko) Chrome/23.0.1271.64 Safari/537.11',\n",
    "       'Accept': 'text/html,application/xhtml+xml,application/xml;q=0.9,*/*;q=0.8',\n",
    "       'Accept-Charset': 'ISO-8859-1,utf-8;q=0.7,*;q=0.3',\n",
    "       'Accept-Encoding': 'none',\n",
    "       'Accept-Language': 'en-US,en;q=0.8',\n",
    "       'Connection': 'keep-alive'}\n",
    "site = \"https://www.mysupervisor.org\"\n",
    "\n",
    "# the page of the list of faculty\n",
    "url = \"https://www.mysupervisor.org/viewforum.php?f=515\"\n",
    "\n",
    "schoolName = \"浙江大学\"\n",
    "req = Request(url=url, headers=hdr) \n",
    "html = urlopen(req,context=context).read() \n",
    "bsObj = BS(html)"
   ]
  },
  {
   "cell_type": "code",
   "execution_count": 3,
   "metadata": {},
   "outputs": [],
   "source": [
    "lis = bsObj.find('div', attrs={'id': 'page-body'}).find_all('li')\n",
    "\n",
    "advisors = []"
   ]
  },
  {
   "cell_type": "code",
   "execution_count": 4,
   "metadata": {},
   "outputs": [],
   "source": [
    "for li in lis:\n",
    "    name = li.find('a')\n",
    "    count = li.find('dd', attrs={'class': \"posts\"})\n",
    "    href = name['href'][1:]\n",
    "    first = href.find('&')\n",
    "    second = href[first+1:].find('&')+1\n",
    "    href = site + href[:first+second]\n",
    "    if count.contents[0].strip() != '0':\n",
    "        advisors.append([name.get_text(),href,0.0])"
   ]
  },
  {
   "cell_type": "code",
   "execution_count": null,
   "metadata": {},
   "outputs": [
    {
     "name": "stdout",
     "output_type": "stream",
     "text": [
      "total of 51 advisors, processed 0\n",
      "total of 51 advisors, processed 5\n",
      "total of 51 advisors, processed 10\n",
      "total of 51 advisors, processed 15\n",
      "total of 51 advisors, processed 20\n",
      "total of 51 advisors, processed 25\n",
      "total of 51 advisors, processed 30\n",
      "total of 51 advisors, processed 35\n",
      "total of 51 advisors, processed 40\n"
     ]
    }
   ],
   "source": [
    "for advisor,n in zip(advisors,range(len(advisors))):\n",
    "    req = Request(url=advisor[1], headers=hdr)\n",
    "    html = urlopen(req,context=context).read()\n",
    "    bsObj = BS(html)\n",
    "    grade = bsObj.find('span', attrs={'style': 'font-size:1.5em;font-weight: bold;color:#536482'}).get_text()\n",
    "    advisor[2] = grade\n",
    "    if n%(int(len(advisors)/10)) == 0:\n",
    "        print(\"total of \" + str(len(advisors)) + \" advisors, processed \" + str(n))"
   ]
  },
  {
   "cell_type": "code",
   "execution_count": null,
   "metadata": {},
   "outputs": [],
   "source": [
    "advisors = sorted(advisors,key=lambda x:x[2],reverse=True)"
   ]
  },
  {
   "cell_type": "code",
   "execution_count": null,
   "metadata": {},
   "outputs": [],
   "source": [
    "print(\"Current University is: \" + schoolName)\n",
    "for advisor in advisors:\n",
    "    print(advisor[2],advisor[0],advisor[1])"
   ]
  },
  {
   "cell_type": "code",
   "execution_count": null,
   "metadata": {},
   "outputs": [],
   "source": []
  }
 ],
 "metadata": {
  "kernelspec": {
   "display_name": "Python 3",
   "language": "python",
   "name": "python3"
  },
  "language_info": {
   "codemirror_mode": {
    "name": "ipython",
    "version": 3
   },
   "file_extension": ".py",
   "mimetype": "text/x-python",
   "name": "python",
   "nbconvert_exporter": "python",
   "pygments_lexer": "ipython3",
   "version": "3.7.4"
  }
 },
 "nbformat": 4,
 "nbformat_minor": 4
}
